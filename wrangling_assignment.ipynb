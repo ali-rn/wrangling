{
  "cells": [
    {
      "cell_type": "markdown",
      "metadata": {
        "id": "view-in-github",
        "colab_type": "text"
      },
      "source": [
        "<a href=\"https://colab.research.google.com/github/ali-rn/wrangling/blob/main/wrangling_assignment.ipynb\" target=\"_parent\"><img src=\"https://colab.research.google.com/assets/colab-badge.svg\" alt=\"Open In Colab\"/></a>"
      ]
    },
    {
      "cell_type": "markdown",
      "id": "13ad028b-72b7-43ed-aa78-96fd4e518040",
      "metadata": {
        "id": "13ad028b-72b7-43ed-aa78-96fd4e518040"
      },
      "source": [
        "# Assignment: Data Wrangling\n",
        "## `! git clone https://github.com/DS3001/wrangling`"
      ]
    },
    {
      "cell_type": "code",
      "source": [
        "! git clone https://github.com/ali-rn/wrangling"
      ],
      "metadata": {
        "colab": {
          "base_uri": "https://localhost:8080/"
        },
        "id": "IlrK6HcztQ9i",
        "outputId": "7e5942b0-0ac1-4058-9961-fbde09adf251"
      },
      "id": "IlrK6HcztQ9i",
      "execution_count": 3,
      "outputs": [
        {
          "output_type": "stream",
          "name": "stdout",
          "text": [
            "Cloning into 'wrangling'...\n",
            "remote: Enumerating objects: 63, done.\u001b[K\n",
            "remote: Counting objects: 100% (27/27), done.\u001b[K\n",
            "remote: Compressing objects: 100% (19/19), done.\u001b[K\n",
            "remote: Total 63 (delta 19), reused 8 (delta 8), pack-reused 36\u001b[K\n",
            "Receiving objects: 100% (63/63), 6.25 MiB | 20.85 MiB/s, done.\n",
            "Resolving deltas: 100% (24/24), done.\n"
          ]
        }
      ]
    },
    {
      "cell_type": "markdown",
      "id": "5735a4d4-8be8-433a-a351-70eb8002e632",
      "metadata": {
        "id": "5735a4d4-8be8-433a-a351-70eb8002e632"
      },
      "source": [
        "**Q1.** Open the \"tidy_data.pdf\" document in the repo, which is a paper called Tidy Data by Hadley Wickham.\n",
        "\n",
        "  1. Read the abstract. What is this paper about?\n",
        "  **This paper is about a new standard of data called \"tidy data\" and a specific kind of way to data wrangle called \"data tidying\". Tidy datasets have a specific structure that make them easy to analyze and manipulate.**\n",
        "  2. Read the introduction. What is the \"tidy data standard\" intended to accomplish?\n",
        "**It is meant to make the initial steps of analysis and exploration of data easier**\n",
        "\n",
        "  3. Read the intro to section 2. What does this sentence mean: \"Like families, tidy datasets are all alike but every messy dataset is messy in its own way.\"\n",
        "**Tidy datasets follow a certain standard and layout that make them easy to compare interoperable with tidy tools. But messy, unstandardized datasets lack these commonalities**\n",
        "\n",
        "  What does this sentence mean: \"For a given dataset, it’s usually easy to figure out what are observations and what are variables, but it is surprisingly difficult to precisely define variables and observations in general.\" **Different variables/names could have different meanings depending on the context and relationship with other variables. A variable could be quantitative in one and then qualitative in another. Variables are better defined in terms of their relationships with other variables rather than in general**\n",
        "\n",
        "  4. Read Section 2.2. How does Wickham define values, variables, and observations? **Value - the specific data point, can be quantitative or qualitative\n",
        "Variable - all values under a particular attribute, like height\n",
        "Observation - all values under a particular case, person, group, etc.**\n",
        "\n",
        "  5. How is \"Tidy Data\" defined in section 2.3? **it gives a more detailed definition of the Tidy Data standard: must have variables as columns, observations as rows, and each unit of observation forms a table. Any data that isn't tidy is messy**\n",
        "\n",
        "  6. Read the intro to Section 3 and Section 3.1. What are the 5 most common problems with messy datasets? Why are the data in Table 4 messy? What is \"melting\" a dataset? **1. Column headers are values 2. multiple variables in one column; 3. variables in both rows and columns; 4. multiple observational units in one table; 5. one observational unit in multiple tables**\n",
        "\n",
        "  **The data in table 4 are messy because variables form both columns and rows and the column headers are values rather than variable names.**\n",
        "\n",
        "  **melting means stacking. Making a new variable for the column values and repeating them for each row variable which forms another column. Now, each row is a single observation.**\n",
        "  7. Why, specifically, is table 11 messy but table 12 tidy and \"molten\"?\n",
        "  **Table 11 has multiple observational units whereas Table 12 only has one**\n",
        "  8. Read Section 6. What is the \"chicken-and-egg\" problem with focusing on tidy data? What does Wickham hope happens in the future with further work on the subject of data wrangling?\n",
        "\n",
        "  **tidy tools become linked to tidy data, and tidy data are only as useful as tidy tools**\n",
        "\n",
        "  **Wickham hopes that other frameworks are developed to make other kinds of data wrangling tasks, like identifying missing values and partsing dates, easier**"
      ]
    },
    {
      "cell_type": "markdown",
      "id": "da879ea7-8aac-48a3-b6c2-daea56d2e072",
      "metadata": {
        "id": "da879ea7-8aac-48a3-b6c2-daea56d2e072"
      },
      "source": [
        "**Q2.** This question provides some practice cleaning variables which have common problems.\n",
        "1. Numeric variable: For `./data/airbnb_hw.csv`, clean the `Price` variable as well as you can, and explain the choices you make. How many missing values do you end up with? (Hint: What happens to the formatting when a price goes over 999 dollars, say from 675 to 1,112?)\n",
        "2. Categorical variable: For the `./data/sharks.csv` data covered in the lecture, clean the \"Type\" variable as well as you can, and explain the choices you make.\n",
        "3. Dummy variable: For the pretrial data covered in the lecture, clean the `WhetherDefendantWasReleasedPretrial` variable as well as you can, and, in particular, replace missing values with `np.nan`.\n",
        "4. Missing values, not at random: For the pretrial data covered in the lecture, clean the `ImposedSentenceAllChargeInContactEvent` variable as well as you can, and explain the choices you make. (Hint: Look at the `SentenceTypeAllChargesAtConvictionInContactEvent` variable.)"
      ]
    },
    {
      "cell_type": "code",
      "source": [
        "import numpy as np\n",
        "import pandas as pd\n",
        "\n",
        "#Q2.1\n",
        "\n",
        "df = pd.read_csv('./wrangling/assignment/data/airbnb_hw.csv',low_memory=False)\n",
        "\n",
        "#print(df.shape, '\\n') # List the dimensions of df\n",
        "#print(df.dtypes, '\\n') # The types of the variables; `object` is a bad sign\n",
        "#print(df.columns, '\\n') # First five column names\n",
        "\n",
        "var = 'Price'\n",
        "print(df[var].unique(),'\\n')\n",
        "\n",
        "df[var] = df[var].str.replace(',','')\n",
        "df[var] = pd.to_numeric(df[var], errors = 'coerce')\n",
        "\n",
        "df['Price_NA'] = df[var].isnull()\n",
        "\n",
        "print(sum(df['Price_NA']),'\\n')\n",
        "\n",
        "print(df[var].unique(),'\\n')\n"
      ],
      "metadata": {
        "colab": {
          "base_uri": "https://localhost:8080/"
        },
        "id": "_aVgXKxdrK1P",
        "outputId": "84951f5f-a162-45d4-f45b-8cd10f231d6d"
      },
      "id": "_aVgXKxdrK1P",
      "execution_count": 4,
      "outputs": [
        {
          "output_type": "stream",
          "name": "stdout",
          "text": [
            "['145' '37' '28' '199' '549' '149' '250' '90' '270' '290' '170' '59' '49'\n",
            " '68' '285' '75' '100' '150' '700' '125' '175' '40' '89' '95' '99' '499'\n",
            " '120' '79' '110' '180' '143' '230' '350' '135' '85' '60' '70' '55' '44'\n",
            " '200' '165' '115' '74' '84' '129' '50' '185' '80' '190' '140' '45' '65'\n",
            " '225' '600' '109' '1,990' '73' '240' '72' '105' '155' '160' '42' '132'\n",
            " '117' '295' '280' '159' '107' '69' '239' '220' '399' '130' '375' '585'\n",
            " '275' '139' '260' '35' '133' '300' '289' '179' '98' '195' '29' '27' '39'\n",
            " '249' '192' '142' '169' '1,000' '131' '138' '113' '122' '329' '101' '475'\n",
            " '238' '272' '308' '126' '235' '315' '248' '128' '56' '207' '450' '215'\n",
            " '210' '385' '445' '136' '247' '118' '77' '76' '92' '198' '205' '299'\n",
            " '222' '245' '104' '153' '349' '114' '320' '292' '226' '420' '500' '325'\n",
            " '307' '78' '265' '108' '123' '189' '32' '58' '86' '219' '800' '335' '63'\n",
            " '229' '425' '67' '87' '1,200' '158' '650' '234' '310' '695' '400' '166'\n",
            " '119' '62' '168' '340' '479' '43' '395' '144' '52' '47' '529' '187' '209'\n",
            " '233' '82' '269' '163' '172' '305' '156' '550' '435' '137' '124' '48'\n",
            " '279' '330' '5,000' '134' '378' '97' '277' '64' '193' '147' '186' '264'\n",
            " '30' '3,000' '112' '94' '379' '57' '415' '236' '410' '214' '88' '66' '71'\n",
            " '171' '157' '545' '1,500' '83' '96' '1,800' '81' '188' '380' '255' '505'\n",
            " '54' '33' '174' '93' '740' '640' '1,300' '440' '599' '357' '1,239' '495'\n",
            " '127' '5,999' '178' '348' '152' '242' '183' '253' '750' '259' '365' '273'\n",
            " '197' '397' '103' '389' '355' '559' '38' '203' '999' '141' '162' '333'\n",
            " '698' '46' '360' '895' '10' '41' '206' '281' '449' '388' '212' '102'\n",
            " '201' '2,750' '4,750' '432' '675' '167' '390' '298' '339' '194' '302'\n",
            " '211' '595' '191' '53' '361' '480' '8,000' '4,500' '459' '997' '345'\n",
            " '216' '218' '111' '735' '276' '91' '490' '850' '398' '36' '775' '267'\n",
            " '625' '336' '2,500' '176' '725' '3,750' '469' '106' '460' '287' '575'\n",
            " '227' '263' '25' '228' '208' '177' '880' '148' '116' '685' '470' '217'\n",
            " '164' '61' '645' '699' '405' '252' '319' '268' '419' '343' '525' '311'\n",
            " '840' '154' '294' '950' '409' '184' '257' '204' '241' '2,000' '412' '121'\n",
            " '288' '196' '900' '647' '524' '1,750' '309' '510' '1,495' '1,700' '799'\n",
            " '383' '372' '492' '327' '1,999' '656' '224' '173' '875' '1,170' '795'\n",
            " '690' '146' '465' '1,100' '151' '274' '429' '825' '282' '256' '1,111'\n",
            " '620' '271' '161' '51' '855' '579' '1,174' '430' '20' '899' '649' '485'\n",
            " '181' '455' '4,000' '243' '342' '590' '560' '374' '437' '232' '359' '985'\n",
            " '31' '244' '254' '723' '237' '428' '370' '34' '1,400' '580' '2,520' '221'\n",
            " '749' '1,600' '2,695' '306' '202' '680' '570' '520' '223' '2,295' '213'\n",
            " '1,065' '346' '24' '286' '296' '266' '26' '995' '1,368' '393' '182' '635'\n",
            " '258' '780' '589' '347' '1,250' '1,350' '446' '3,200' '1,050' '1,650'\n",
            " '1,550' '975' '323' '6,500' '2,499' '1,850' '2,250' '715' '461' '540'\n",
            " '356' '439' '384' '569' '1,900' '22' '785' '626' '830' '318' '444' '321'\n",
            " '401' '1,499' '888' '369' '770' '386' '366' '344' '630' '313' '597' '262'\n",
            " '509' '10,000' '278' '312' '789' '1,195' '422' '21' '765' '3,500' '945'\n",
            " '326' '3,100' '2,486' '3,390' '1,356' '2,599' '472' '454' '328' '396'\n",
            " '291'] \n",
            "\n",
            "0 \n",
            "\n",
            "[  145    37    28   199   549   149   250    90   270   290   170    59\n",
            "    49    68   285    75   100   150   700   125   175    40    89    95\n",
            "    99   499   120    79   110   180   143   230   350   135    85    60\n",
            "    70    55    44   200   165   115    74    84   129    50   185    80\n",
            "   190   140    45    65   225   600   109  1990    73   240    72   105\n",
            "   155   160    42   132   117   295   280   159   107    69   239   220\n",
            "   399   130   375   585   275   139   260    35   133   300   289   179\n",
            "    98   195    29    27    39   249   192   142   169  1000   131   138\n",
            "   113   122   329   101   475   238   272   308   126   235   315   248\n",
            "   128    56   207   450   215   210   385   445   136   247   118    77\n",
            "    76    92   198   205   299   222   245   104   153   349   114   320\n",
            "   292   226   420   500   325   307    78   265   108   123   189    32\n",
            "    58    86   219   800   335    63   229   425    67    87  1200   158\n",
            "   650   234   310   695   400   166   119    62   168   340   479    43\n",
            "   395   144    52    47   529   187   209   233    82   269   163   172\n",
            "   305   156   550   435   137   124    48   279   330  5000   134   378\n",
            "    97   277    64   193   147   186   264    30  3000   112    94   379\n",
            "    57   415   236   410   214    88    66    71   171   157   545  1500\n",
            "    83    96  1800    81   188   380   255   505    54    33   174    93\n",
            "   740   640  1300   440   599   357  1239   495   127  5999   178   348\n",
            "   152   242   183   253   750   259   365   273   197   397   103   389\n",
            "   355   559    38   203   999   141   162   333   698    46   360   895\n",
            "    10    41   206   281   449   388   212   102   201  2750  4750   432\n",
            "   675   167   390   298   339   194   302   211   595   191    53   361\n",
            "   480  8000  4500   459   997   345   216   218   111   735   276    91\n",
            "   490   850   398    36   775   267   625   336  2500   176   725  3750\n",
            "   469   106   460   287   575   227   263    25   228   208   177   880\n",
            "   148   116   685   470   217   164    61   645   699   405   252   319\n",
            "   268   419   343   525   311   840   154   294   950   409   184   257\n",
            "   204   241  2000   412   121   288   196   900   647   524  1750   309\n",
            "   510  1495  1700   799   383   372   492   327  1999   656   224   173\n",
            "   875  1170   795   690   146   465  1100   151   274   429   825   282\n",
            "   256  1111   620   271   161    51   855   579  1174   430    20   899\n",
            "   649   485   181   455  4000   243   342   590   560   374   437   232\n",
            "   359   985    31   244   254   723   237   428   370    34  1400   580\n",
            "  2520   221   749  1600  2695   306   202   680   570   520   223  2295\n",
            "   213  1065   346    24   286   296   266    26   995  1368   393   182\n",
            "   635   258   780   589   347  1250  1350   446  3200  1050  1650  1550\n",
            "   975   323  6500  2499  1850  2250   715   461   540   356   439   384\n",
            "   569  1900    22   785   626   830   318   444   321   401  1499   888\n",
            "   369   770   386   366   344   630   313   597   262   509 10000   278\n",
            "   312   789  1195   422    21   765  3500   945   326  3100  2486  3390\n",
            "  1356  2599   472   454   328   396   291] \n",
            "\n"
          ]
        }
      ]
    },
    {
      "cell_type": "markdown",
      "source": [
        "Commas were removed because values >999 may have a comma in them. Dollar signs were removed because some of the prices may have been inputted in the standard USD format that has $ in the front of it.\n",
        "\n",
        "I ended up with 0 missing values because the replace ,/$ methods and the numeric coercion turned everything into int64 data types."
      ],
      "metadata": {
        "id": "qP21DOSXydLO"
      },
      "id": "qP21DOSXydLO"
    },
    {
      "cell_type": "code",
      "source": [
        "#2.2\n",
        "\n",
        "df = pd.read_csv('./wrangling/assignment/data/sharks.csv',low_memory=False)\n",
        "\n",
        "var = 'Type'\n",
        "\n",
        "print(df[var].unique(),'\\n')\n",
        "df[var].value_counts()"
      ],
      "metadata": {
        "colab": {
          "base_uri": "https://localhost:8080/"
        },
        "id": "9POsD-p2zV_J",
        "outputId": "4fc10ad8-eeb2-457e-f298-4b9cd0d4ac3c"
      },
      "id": "9POsD-p2zV_J",
      "execution_count": 5,
      "outputs": [
        {
          "output_type": "stream",
          "name": "stdout",
          "text": [
            "['Unprovoked' 'Provoked' 'Questionable' 'Watercraft' 'Unconfirmed'\n",
            " 'Unverified' 'Invalid' 'Under investigation' 'Boating' 'Sea Disaster' nan\n",
            " 'Boat' 'Boatomg'] \n",
            "\n"
          ]
        },
        {
          "output_type": "execute_result",
          "data": {
            "text/plain": [
              "Unprovoked             4716\n",
              "Provoked                593\n",
              "Invalid                 552\n",
              "Sea Disaster            239\n",
              "Watercraft              142\n",
              "Boat                    109\n",
              "Boating                  92\n",
              "Questionable             10\n",
              "Unconfirmed               1\n",
              "Unverified                1\n",
              "Under investigation       1\n",
              "Boatomg                   1\n",
              "Name: Type, dtype: int64"
            ]
          },
          "metadata": {},
          "execution_count": 5
        }
      ]
    },
    {
      "cell_type": "code",
      "source": [
        "#merge similar categories to Watercraft\n",
        "df[var] = df[var].replace(['Boatomg','Boating','Boat','Watercraft','Sea Disaster'],'Watercraft')\n",
        "\n",
        "#replace all missing types with nan\n",
        "df[var] = df[var].replace(['Under investigation','Unverified','Unconfirmed','Questionable','Invalid'], np.nan)\n",
        "\n",
        "df[var].value_counts()"
      ],
      "metadata": {
        "colab": {
          "base_uri": "https://localhost:8080/"
        },
        "id": "bijF2D1Y3ye9",
        "outputId": "e8a9b6cf-8a4d-439d-85ec-951ce9f4fbb4"
      },
      "id": "bijF2D1Y3ye9",
      "execution_count": 40,
      "outputs": [
        {
          "output_type": "execute_result",
          "data": {
            "text/plain": [
              "Unprovoked    4716\n",
              "Provoked       593\n",
              "Watercraft     583\n",
              "Name: Type, dtype: int64"
            ]
          },
          "metadata": {},
          "execution_count": 40
        }
      ]
    },
    {
      "cell_type": "markdown",
      "source": [
        "In the type of shark attack, there are several different ways that an accident related to a boat or watercraft was described, so I merged them under \"Watercraft\"\n",
        "\n",
        "There's also many different missing types and their differences seemed trivial, so I made them all NaN/missing"
      ],
      "metadata": {
        "id": "ZlUICcAg4Jyu"
      },
      "id": "ZlUICcAg4Jyu"
    },
    {
      "cell_type": "markdown",
      "source": [
        "2.3: Dummy variable: For the pretrial data covered in the lecture, clean the WhetherDefendantWasReleasedPretrial variable as well as you can, and, in particular, replace missing values with np.nan."
      ],
      "metadata": {
        "id": "oAkOGJqb_tqM"
      },
      "id": "oAkOGJqb_tqM"
    },
    {
      "cell_type": "code",
      "source": [
        "#2.3\n",
        "url = 'http://www.vcsc.virginia.gov/pretrialdataproject/October%202017%20Cohort_Virginia%20Pretrial%20Data%20Project_Deidentified%20FINAL%20Update_10272021.csv'\n",
        "\n",
        "df = pd.read_csv(url, low_memory = False)\n",
        "var = 'WhetherDefendantWasReleasedPretrial'\n",
        "\n",
        "df[var].value_counts()"
      ],
      "metadata": {
        "colab": {
          "base_uri": "https://localhost:8080/"
        },
        "id": "KgLBF4nr4fmj",
        "outputId": "ae118621-68fc-4c00-9a91-a46cdc14c5c8"
      },
      "id": "KgLBF4nr4fmj",
      "execution_count": 54,
      "outputs": [
        {
          "output_type": "execute_result",
          "data": {
            "text/plain": [
              "1    19154\n",
              "0     3801\n",
              "9       31\n",
              "Name: WhetherDefendantWasReleasedPretrial, dtype: int64"
            ]
          },
          "metadata": {},
          "execution_count": 54
        }
      ]
    },
    {
      "cell_type": "code",
      "source": [
        "pretrialRelease = df[var]\n",
        "\n",
        "pretrialRelease = pretrialRelease.replace(9,np.nan)\n",
        "print(pretrialRelease.value_counts())\n",
        "\n",
        "df[var] = pretrialRelease\n",
        "\n",
        "print(df[var].value_counts())"
      ],
      "metadata": {
        "colab": {
          "base_uri": "https://localhost:8080/"
        },
        "id": "GiaENerqAWbn",
        "outputId": "ee6ac83e-7e49-43f7-c170-29f4505fb4c0"
      },
      "id": "GiaENerqAWbn",
      "execution_count": 55,
      "outputs": [
        {
          "output_type": "stream",
          "name": "stdout",
          "text": [
            "1.0    19154\n",
            "0.0     3801\n",
            "Name: WhetherDefendantWasReleasedPretrial, dtype: int64\n",
            "1.0    19154\n",
            "0.0     3801\n",
            "Name: WhetherDefendantWasReleasedPretrial, dtype: int64\n"
          ]
        }
      ]
    },
    {
      "cell_type": "markdown",
      "source": [
        "2.4: Missing values, not at random: For the pretrial data covered in the lecture, clean the ImposedSentenceAllChargeInContactEvent variable as well as you can, and explain the choices you make. (Hint: Look at the SentenceTypeAllChargesAtConvictionInContactEvent variable.)"
      ],
      "metadata": {
        "id": "ZnPEQ8y4_3oy"
      },
      "id": "ZnPEQ8y4_3oy"
    },
    {
      "cell_type": "code",
      "source": [
        "imposed = df['ImposedSentenceAllChargeInContactEvent']\n",
        "sType = df['SentenceTypeAllChargesAtConvictionInContactEvent']\n",
        "\n",
        "imposed = pd.to_numeric(imposed,errors='coerce')\n",
        "\n",
        "print(len(imposed))\n",
        "\n",
        "imposedNA = imposed.isnull()\n",
        "\n",
        "print(sum(imposedNA))\n",
        "print(sType.value_counts)\n",
        "print(pd.crosstab(imposedNA,sType))"
      ],
      "metadata": {
        "colab": {
          "base_uri": "https://localhost:8080/"
        },
        "id": "rpv3XviIB0q9",
        "outputId": "b2271e0b-c4fa-4051-8212-cbb981fde7a6"
      },
      "id": "rpv3XviIB0q9",
      "execution_count": 56,
      "outputs": [
        {
          "output_type": "stream",
          "name": "stdout",
          "text": [
            "22986\n",
            "9053\n",
            "<bound method IndexOpsMixin.value_counts of 0        9\n",
            "1        0\n",
            "2        1\n",
            "3        1\n",
            "4        4\n",
            "        ..\n",
            "22981    4\n",
            "22982    9\n",
            "22983    4\n",
            "22984    4\n",
            "22985    4\n",
            "Name: SentenceTypeAllChargesAtConvictionInContactEvent, Length: 22986, dtype: int64>\n",
            "SentenceTypeAllChargesAtConvictionInContactEvent     0     1    2     4    9\n",
            "ImposedSentenceAllChargeInContactEvent                                      \n",
            "False                                             8720  4299  914     0    0\n",
            "True                                                 0     0    0  8779  274\n"
          ]
        }
      ]
    },
    {
      "cell_type": "code",
      "source": [
        "imposed = imposed.mask(sType == 4, 0) #cases dismissed set to 0 imposed time\n",
        "imposed = imposed.mask(sType == 9, np.nan) #unknowns replaced with a null\n",
        "\n",
        "imposedNA = imposed.isnull()\n",
        "print(sum(imposedNA))\n",
        "print(pd.crosstab(imposedNA,sType))\n",
        "\n",
        "df['ImposedSentenceAllChargeInContactEvent'] = imposed\n",
        "\n",
        "del imposed, sType"
      ],
      "metadata": {
        "colab": {
          "base_uri": "https://localhost:8080/"
        },
        "id": "Nkd2qI8TNge1",
        "outputId": "a6ab267a-c08b-4b3e-cb7a-4c51730ef51b"
      },
      "id": "Nkd2qI8TNge1",
      "execution_count": 57,
      "outputs": [
        {
          "output_type": "stream",
          "name": "stdout",
          "text": [
            "274\n",
            "SentenceTypeAllChargesAtConvictionInContactEvent     0     1    2     4    9\n",
            "ImposedSentenceAllChargeInContactEvent                                      \n",
            "False                                             8720  4299  914  8779    0\n",
            "True                                                 0     0    0     0  274\n"
          ]
        }
      ]
    },
    {
      "cell_type": "markdown",
      "source": [
        "A case type of 4 denotes that charges were dismissed. This means the imposed sentence time should be 0.\n",
        "\n",
        "Moreover, a case type of 9 denotes an unknown charge/missing information, so imposed time should be null."
      ],
      "metadata": {
        "id": "zdORdnl0Noa3"
      },
      "id": "zdORdnl0Noa3"
    },
    {
      "cell_type": "markdown",
      "id": "649494cd-cfd6-4f80-992a-9994fc19e1d5",
      "metadata": {
        "id": "649494cd-cfd6-4f80-992a-9994fc19e1d5"
      },
      "source": [
        "**Q3.** Many important datasets contain a race variable, typically limited to a handful of values often including Black, White, Asian, Latino, and Indigenous. This question looks at data gathering efforts on this variable by the U.S. Federal government.\n",
        "\n",
        "\n",
        "\n",
        "1. How did the most recent US Census gather data on race?\n",
        "\n",
        "The Census Bureau collects race data based on self-identification.\n",
        "\n",
        "Source: https://www.census.gov/topics/population/race.html#:~:text=The%20Census%20Bureau%20collects%20race,be%20of%20any%20ethnic%20origin.\n",
        "\n",
        "2. Why do we gather these data? What role do these kinds of data play in politics and society? Why does data quality matter?\n",
        "\n",
        "This data is pertinent to research being done on specific groups, like in health and politics, namely civil rights. This helps gov make decisions on funding for programs for specific groups. It's important that this data is accurate because it affects a lot of policy making and research.\n",
        "\n",
        "Source: https://www.census.gov/acs/www/about/why-we-ask-each-question/race/#:~:text=Local%2C%20state%2C%20tribal%2C%20and,or%20services%20for%20specific%20groups.\n",
        "\n",
        "\n",
        "3. Please provide a constructive criticism of how the Census was conducted: What was done well? What do you think was missing? How should future large scale surveys be adjusted to best reflect the diversity of the population? Could some of the Census' good practices be adopted more widely to gather richer and more useful data?\n",
        "\n",
        "The Census does a good job of holistically collecting data on the US population that informs research and policy making. One area where they fall short however is the conflation of several ethnic groups with the \"White\" race.\n",
        "\n",
        "As someone with a Persian/Middle Eastern background, I feel misrepresented when I am conflated with any other white American of European/Caucasian descent. For one, my experience is far different from those of Irish or German descent. Second, the white category fails to recognize the diversity of Arab, North African, Persian, and Turkish populations.\n",
        "\n",
        "In the future, the US census could expand the available options of race to include \"Middle Eastern/North African (MENA)\". One good practice that could be expanded upon is the write-in option for subcategories/ethnicities under white. They could include this under a separate MENA category which provides a distinction between European and MENA descent.\n",
        "\n",
        "Approximately 3.5 million respondents selected a MENA descent write-in category which demonstrates the need for a separate race category. This conflation leads to low quality in determining health outcomes, socioeconomic status, and political representation of Arab and Persian populations.\n",
        "\n",
        "Source: https://www.census.gov/library/stories/2023/09/2020-census-dhc-a-mena-population.html#:~:text=and%20Alli%20Coritz-,Lebanese%2C%20Iranian%20and%20Egyptian%20populations%20represented%20nearly%20half%20of%20the,to%20specifically%20solicit%20MENA%20responses.\n",
        "\n",
        "4. How did the Census gather data on sex and gender? Please provide a similar constructive criticism of their practices.\n",
        "\n",
        "In the American Community Survery, only sex assigned at birth is asked about. Providing other questions about current gender and sexual orientation will better illustrate the diversity of the US and provide more information to researchers trying to examine health outcomes and livelihood of individuals that are part of the LGBTQ+ community and do not fall into traditional heteronormative categories.\n",
        "\n",
        "\n",
        "5. When it comes to cleaning data, what concerns do you have about protected characteristics like sex, gender, sexual identity, or race? What challenges can you imagine arising when there are missing values? What good or bad practices might people adopt, and why?\n",
        "\n",
        "Imputation is virtually impossible. Also, there may also be multiple types of missing data (i.e., Decline to Answer, Other, Don't Know, etc.). Some good practices would be to exclude individuals with missing data for any of the protected characteristics from any studies on that respective protected group. This is assuming that the number of people who do not answer would be relatively negligible.\n",
        "\n",
        "6. Suppose someone invented an algorithm to impute values for protected characteristics like race, gender, sex, or sexuality. What kinds of concerns would you have?\n",
        "\n",
        "There is no way to tell what race, gender, sex, or sexuality is from the other data you have about them. These kinds of variables are purely categorical and vary greatly from person to person. These characteristics are also private and confidential, so a lot of the times when this kind of data is missing, it's for a legitimate reason, which makes imputing that data at best, inaccurate, and at worst, unethical."
      ]
    }
  ],
  "metadata": {
    "colab": {
      "provenance": [],
      "include_colab_link": true
    },
    "kernelspec": {
      "display_name": "Python 3 (ipykernel)",
      "language": "python",
      "name": "python3"
    },
    "language_info": {
      "codemirror_mode": {
        "name": "ipython",
        "version": 3
      },
      "file_extension": ".py",
      "mimetype": "text/x-python",
      "name": "python",
      "nbconvert_exporter": "python",
      "pygments_lexer": "ipython3",
      "version": "3.10.4"
    }
  },
  "nbformat": 4,
  "nbformat_minor": 5
}